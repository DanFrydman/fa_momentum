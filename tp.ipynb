#!/usr/bin/env python3
# -*- coding: utf-8 -*-
"""
Created on Sat Jan 18 11:05:18 2020

@author: agustin
"""

print("Hello world")